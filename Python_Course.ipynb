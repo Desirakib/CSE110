{
  "nbformat": 4,
  "nbformat_minor": 0,
  "metadata": {
    "colab": {
      "provenance": [],
      "authorship_tag": "ABX9TyMClZ8CzelIUvZGd47jNRqg",
      "include_colab_link": true
    },
    "kernelspec": {
      "name": "python3",
      "display_name": "Python 3"
    },
    "language_info": {
      "name": "python"
    }
  },
  "cells": [
    {
      "cell_type": "markdown",
      "metadata": {
        "id": "view-in-github",
        "colab_type": "text"
      },
      "source": [
        "<a href=\"https://colab.research.google.com/github/Desirakib/CSE110/blob/main/Python_Course.ipynb\" target=\"_parent\"><img src=\"https://colab.research.google.com/assets/colab-badge.svg\" alt=\"Open In Colab\"/></a>"
      ]
    },
    {
      "cell_type": "code",
      "execution_count": 20,
      "metadata": {
        "colab": {
          "base_uri": "https://localhost:8080/"
        },
        "id": "lgSfSOg91glt",
        "outputId": "e4092a15-f804-44d0-ffeb-77791c9e2f3a"
      },
      "outputs": [
        {
          "output_type": "stream",
          "name": "stdout",
          "text": [
            "0\n",
            "You haven't benn born\n"
          ]
        }
      ],
      "source": [
        "age=int(input())\n",
        "if age>=18:\n",
        "  print(\"You are an adult!\")\n",
        "elif age >= 18:\n",
        "    print(\"You are old!\")\n",
        "elif age <= 0:\n",
        "    print(\"You haven't benn born\")\n",
        "else:\n",
        "      print(\"You are a child\")\n",
        "\n",
        "\n"
      ]
    },
    {
      "cell_type": "code",
      "source": [
        "age = int(input())\n",
        "if age >= 100:\n",
        "  print(\"You are old!\")\n",
        "elif age >= 18:\n",
        "  print(\"You are an adult\")\n",
        "elif age <=0:\n",
        "  print(\"You have not born yet\")\n",
        "else:\n",
        "  print(\"You are a child\")"
      ],
      "metadata": {
        "colab": {
          "base_uri": "https://localhost:8080/"
        },
        "id": "2uhljoxQ-3Md",
        "outputId": "2a811dac-a9e9-44df-d6da-c2e24b53efd1"
      },
      "execution_count": 23,
      "outputs": [
        {
          "output_type": "stream",
          "name": "stdout",
          "text": [
            "100\n",
            "You are old!\n"
          ]
        }
      ]
    },
    {
      "cell_type": "code",
      "source": [
        "name = None\n",
        "while not name:\n",
        "    name = input(\"Enter your name: \")\n",
        "\n",
        "print(\"Hello \"+name)\n"
      ],
      "metadata": {
        "colab": {
          "base_uri": "https://localhost:8080/"
        },
        "id": "uWx6r58wN6Fl",
        "outputId": "cbfc179b-675b-4c22-8074-600038f3efa5"
      },
      "execution_count": null,
      "outputs": [
        {
          "name": "stdout",
          "output_type": "stream",
          "text": [
            "Enter your name: \n"
          ]
        }
      ]
    },
    {
      "cell_type": "code",
      "source": [
        "for index in range(50,100+1,2):\n",
        "  print(index)"
      ],
      "metadata": {
        "colab": {
          "base_uri": "https://localhost:8080/"
        },
        "id": "-zjBR1RlFDYC",
        "outputId": "084f5d78-164e-40c5-e6bc-474311ec2c64"
      },
      "execution_count": 16,
      "outputs": [
        {
          "output_type": "stream",
          "name": "stdout",
          "text": [
            "50\n",
            "52\n",
            "54\n",
            "56\n",
            "58\n",
            "60\n",
            "62\n",
            "64\n",
            "66\n",
            "68\n",
            "70\n",
            "72\n",
            "74\n",
            "76\n",
            "78\n",
            "80\n",
            "82\n",
            "84\n",
            "86\n",
            "88\n",
            "90\n",
            "92\n",
            "94\n",
            "96\n",
            "98\n",
            "100\n"
          ]
        }
      ]
    },
    {
      "cell_type": "code",
      "source": [
        "import time\n",
        "for seconds in range (10,0,-1):\n",
        "  print(seconds)\n",
        "  time.sleep(5)\n",
        "print(\"Happy New Year!\")"
      ],
      "metadata": {
        "colab": {
          "base_uri": "https://localhost:8080/"
        },
        "id": "HhsgZboPIUtb",
        "outputId": "0994b919-f9a4-431d-adc8-cc82cfd7c892"
      },
      "execution_count": 26,
      "outputs": [
        {
          "output_type": "stream",
          "name": "stdout",
          "text": [
            "10\n",
            "9\n",
            "8\n",
            "7\n",
            "6\n",
            "5\n",
            "4\n",
            "3\n",
            "2\n",
            "1\n",
            "Happy New Year!\n"
          ]
        }
      ]
    }
  ]
}