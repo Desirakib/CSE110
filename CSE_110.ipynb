{
  "nbformat": 4,
  "nbformat_minor": 0,
  "metadata": {
    "colab": {
      "provenance": [],
      "authorship_tag": "ABX9TyMywGDhq7yfz8aaDCRtp803",
      "include_colab_link": true
    },
    "kernelspec": {
      "name": "python3",
      "display_name": "Python 3"
    },
    "language_info": {
      "name": "python"
    }
  },
  "cells": [
    {
      "cell_type": "markdown",
      "metadata": {
        "id": "view-in-github",
        "colab_type": "text"
      },
      "source": [
        "<a href=\"https://colab.research.google.com/github/Desirakib/CSE110/blob/main/CSE_110.ipynb\" target=\"_parent\"><img src=\"https://colab.research.google.com/assets/colab-badge.svg\" alt=\"Open In Colab\"/></a>"
      ]
    },
    {
      "cell_type": "code",
      "execution_count": 27,
      "metadata": {
        "colab": {
          "base_uri": "https://localhost:8080/"
        },
        "id": "Jb3oH7auK7Wn",
        "outputId": "42aafd05-aa14-4b84-98b7-0bf26c1bebba"
      },
      "outputs": [
        {
          "output_type": "stream",
          "name": "stdout",
          "text": [
            "Enter the number of seconds: 7500\n",
            "Hour :2\n",
            "Minute :5\n",
            "Second :0\n"
          ]
        }
      ],
      "source": [
        "#Task-9\n",
        "time = int(input(\"Enter the number of seconds: \"))\n",
        "hour = time//3600\n",
        "min = (time%3600)//60\n",
        "second = (time%3600)%60\n",
        "print(f\"Hour :{hour}\\nMinute :{min}\\nSecond :{second}\")"
      ]
    },
    {
      "cell_type": "code",
      "source": [
        "#Task-10\n",
        "Hours = int(input(\"Please enter number of hour: \"))\n",
        "if Hours<0:\n",
        "  print(\"Hours can not be negative\")\n",
        "elif Hours>168:\n",
        "  print(\"Imposible to work more than 168 hours\")\n",
        "elif Hours<=40:\n",
        "  print(\"Salary :\",(Hours)*200)\n",
        "elif Hours>40:\n",
        "  print(\"Salary :\",8000+(Hours-40)*300)"
      ],
      "metadata": {
        "colab": {
          "base_uri": "https://localhost:8080/"
        },
        "id": "D19mq9A9OgjI",
        "outputId": "197838a3-2673-4bec-afa4-af70a2f24712"
      },
      "execution_count": 20,
      "outputs": [
        {
          "output_type": "stream",
          "name": "stdout",
          "text": [
            "Please enter number of hour: 39\n",
            "Salary : 7800\n"
          ]
        }
      ]
    },
    {
      "cell_type": "code",
      "source": [
        "#Task-11\n",
        "import math\n",
        "S = int(input(\"Enter an integer value :\"))\n",
        "if S<100:\n",
        "  L= 3000-125*math.pow(S,2)\n",
        "  print(L)\n",
        "elif S>=100:\n",
        "  L= 12000/(4+S**2/14900)\n",
        "  print(L)"
      ],
      "metadata": {
        "colab": {
          "base_uri": "https://localhost:8080/"
        },
        "id": "Lxc-OjdrOgkC",
        "outputId": "f3a85e67-b2df-4929-e020-e25bfcf7bd8d"
      },
      "execution_count": 26,
      "outputs": [
        {
          "output_type": "stream",
          "name": "stdout",
          "text": [
            "Enter an integer value :120\n",
            "2416.2162162162163\n"
          ]
        }
      ]
    },
    {
      "cell_type": "code",
      "source": [
        "#Task-12\n",
        "Time = int(input(\"Input time on 24 format value :\"))\n",
        "if 4<=Time<=6:\n",
        "  print(\"Breakfast\")\n",
        "elif 12<=Time<=13:\n",
        "  print(\"Lunch\")\n",
        "elif 16<=Time<=17:\n",
        "  print(\"Snacks\")\n",
        "elif 19<=Time<=20:\n",
        "  print(\"Dinner\")\n",
        "elif Time<0 or Time>=24:\n",
        "  print(\"hahaha\")\n",
        "else:\n",
        "  print(\"Patience is a virtue\")\n"
      ],
      "metadata": {
        "colab": {
          "base_uri": "https://localhost:8080/"
        },
        "id": "z6X6aSCudixh",
        "outputId": "d413bd25-7e67-497a-c972-a519d773a7a7"
      },
      "execution_count": 63,
      "outputs": [
        {
          "output_type": "stream",
          "name": "stdout",
          "text": [
            "Input time on 24 format value :0\n",
            "Patience is a virtue\n"
          ]
        }
      ]
    },
    {
      "cell_type": "code",
      "source": [
        "#task 12\n",
        "h=int(input(\"Enter your hour: \"))\n",
        "if 4<=h<=6:\n",
        "  print(\"Breakfast\")\n",
        "elif 12<=h<=13:\n",
        "  print(\"Lunch\")\n",
        "elif 16<=h<=17:\n",
        "  print(\"Snacks\")\n",
        "elif 19<=h<=20:\n",
        "  print (\"Dinner\")\n",
        "elif h<0 or h>=24:\n",
        "  print(\"Wrong Time\")\n",
        "else:\n",
        "  print(\"Patience is a virtue\")"
      ],
      "metadata": {
        "colab": {
          "base_uri": "https://localhost:8080/"
        },
        "id": "FB-049xzkxNX",
        "outputId": "e4fd3612-367d-4827-d709-ea61d05d14a1"
      },
      "execution_count": 51,
      "outputs": [
        {
          "output_type": "stream",
          "name": "stdout",
          "text": [
            "Enter your hour: 9\n",
            "Patience is a virtue\n"
          ]
        }
      ]
    },
    {
      "cell_type": "code",
      "source": [],
      "metadata": {
        "id": "Qlj2EFw1ovEg"
      },
      "execution_count": null,
      "outputs": []
    }
  ]
}