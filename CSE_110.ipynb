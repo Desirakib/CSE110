{
  "nbformat": 4,
  "nbformat_minor": 0,
  "metadata": {
    "colab": {
      "provenance": [],
      "authorship_tag": "ABX9TyPCwpUyUnpfI2hIaNTLIFyZ",
      "include_colab_link": true
    },
    "kernelspec": {
      "name": "python3",
      "display_name": "Python 3"
    },
    "language_info": {
      "name": "python"
    }
  },
  "cells": [
    {
      "cell_type": "markdown",
      "metadata": {
        "id": "view-in-github",
        "colab_type": "text"
      },
      "source": [
        "<a href=\"https://colab.research.google.com/github/Desirakib/CSE110/blob/main/CSE_110.ipynb\" target=\"_parent\"><img src=\"https://colab.research.google.com/assets/colab-badge.svg\" alt=\"Open In Colab\"/></a>"
      ]
    },
    {
      "cell_type": "code",
      "execution_count": null,
      "metadata": {
        "colab": {
          "base_uri": "https://localhost:8080/"
        },
        "id": "Jb3oH7auK7Wn",
        "outputId": "42aafd05-aa14-4b84-98b7-0bf26c1bebba"
      },
      "outputs": [
        {
          "output_type": "stream",
          "name": "stdout",
          "text": [
            "Enter the number of seconds: 7500\n",
            "Hour :2\n",
            "Minute :5\n",
            "Second :0\n"
          ]
        }
      ],
      "source": [
        "#Task-9\n",
        "time = int(input(\"Enter the number of seconds: \"))\n",
        "hour = time//3600\n",
        "min = (time%3600)//60\n",
        "second = (time%3600)%60\n",
        "print(f\"Hour :{hour}\\nMinute :{min}\\nSecond :{second}\")"
      ]
    },
    {
      "cell_type": "code",
      "source": [
        "#Task-10\n",
        "Hours = int(input(\"Please enter number of hour: \"))\n",
        "if Hours<0:\n",
        "  print(\"Hours can not be negative\")\n",
        "elif Hours>168:\n",
        "  print(\"Imposible to work more than 168 hours\")\n",
        "elif Hours<=40:\n",
        "  print(\"Salary :\",(Hours)*200)\n",
        "elif Hours>40:\n",
        "  print(\"Salary :\",8000+(Hours-40)*300)"
      ],
      "metadata": {
        "colab": {
          "base_uri": "https://localhost:8080/"
        },
        "id": "D19mq9A9OgjI",
        "outputId": "197838a3-2673-4bec-afa4-af70a2f24712"
      },
      "execution_count": null,
      "outputs": [
        {
          "output_type": "stream",
          "name": "stdout",
          "text": [
            "Please enter number of hour: 39\n",
            "Salary : 7800\n"
          ]
        }
      ]
    },
    {
      "cell_type": "code",
      "source": [
        "#Task-11\n",
        "import math\n",
        "S = int(input(\"Enter an integer value :\"))\n",
        "if S<100:\n",
        "  L= 3000-125*math.pow(S,2)\n",
        "  print(L)\n",
        "elif S>=100:\n",
        "  L= 12000/(4+S**2/14900)\n",
        "  print(L)"
      ],
      "metadata": {
        "colab": {
          "base_uri": "https://localhost:8080/"
        },
        "id": "Lxc-OjdrOgkC",
        "outputId": "f3a85e67-b2df-4929-e020-e25bfcf7bd8d"
      },
      "execution_count": null,
      "outputs": [
        {
          "output_type": "stream",
          "name": "stdout",
          "text": [
            "Enter an integer value :120\n",
            "2416.2162162162163\n"
          ]
        }
      ]
    },
    {
      "cell_type": "code",
      "source": [
        "#Task-12\n",
        "Time = int(input(\"Input time on 24 format value :\"))\n",
        "if 4<=Time<=6:\n",
        "  print(\"Breakfast\")\n",
        "elif 12<=Time<=13:\n",
        "  print(\"Lunch\")\n",
        "elif 16<=Time<=17:\n",
        "  print(\"Snacks\")\n",
        "elif 19<=Time<=20:\n",
        "  print(\"Dinner\")\n",
        "elif Time<0 or Time>=24:\n",
        "  print(\"hahaha\")\n",
        "else:\n",
        "  print(\"Patience is a virtue\")\n"
      ],
      "metadata": {
        "colab": {
          "base_uri": "https://localhost:8080/"
        },
        "id": "z6X6aSCudixh",
        "outputId": "d413bd25-7e67-497a-c972-a519d773a7a7"
      },
      "execution_count": null,
      "outputs": [
        {
          "output_type": "stream",
          "name": "stdout",
          "text": [
            "Input time on 24 format value :0\n",
            "Patience is a virtue\n"
          ]
        }
      ]
    },
    {
      "cell_type": "code",
      "source": [
        "#task 12\n",
        "h=int(input(\"Enter your hour: \"))\n",
        "if 4<=h<=6:\n",
        "  print(\"Breakfast\")\n",
        "elif 12<=h<=13:\n",
        "  print(\"Lunch\")\n",
        "elif 16<=h<=17:\n",
        "  print(\"Snacks\")\n",
        "elif 19<=h<=20:\n",
        "  print (\"Dinner\")\n",
        "elif h<0 or h>=24:\n",
        "  print(\"Wrong Time\")\n",
        "else:\n",
        "  print(\"Patience is a virtue\")"
      ],
      "metadata": {
        "colab": {
          "base_uri": "https://localhost:8080/"
        },
        "id": "FB-049xzkxNX",
        "outputId": "e4fd3612-367d-4827-d709-ea61d05d14a1"
      },
      "execution_count": null,
      "outputs": [
        {
          "output_type": "stream",
          "name": "stdout",
          "text": [
            "Enter your hour: 9\n",
            "Patience is a virtue\n"
          ]
        }
      ]
    },
    {
      "cell_type": "code",
      "source": [
        "#Task-13\n",
        "M = int(input(\"Please enter subjet marks: \"))\n",
        "if 90<=M<=100:\n",
        "  print(\"A\")\n",
        "elif 80<=M<=89:\n",
        "  print(\"B\")\n",
        "elif 70<=M<=79:\n",
        "  print(\"C\")\n",
        "elif 50<=M<=59:\n",
        "  print(\"E\")\n",
        "elif 0<=M<50:\n",
        "  print(\"F\")\n",
        "else:\n",
        "  print(\"The valid marks range is 0 to 100\")"
      ],
      "metadata": {
        "colab": {
          "base_uri": "https://localhost:8080/"
        },
        "id": "Qlj2EFw1ovEg",
        "outputId": "e6e01be6-a508-4345-a439-525a49c9ed49"
      },
      "execution_count": null,
      "outputs": [
        {
          "output_type": "stream",
          "name": "stdout",
          "text": [
            "Please enter subjet marks: 96\n",
            "A\n"
          ]
        }
      ]
    },
    {
      "cell_type": "code",
      "source": [
        "#Task-14\n",
        "s = int(input(\"Enter distance in meter: \"))\n",
        "t = int(input(\"Enter time in seconds: \"))\n",
        "v= round((s/1000)*(3600/t),3)\n",
        "print(f\"{v} km/h\")\n",
        "if v<0:\n",
        "  print(\"Velocity can not be negative.\")\n",
        "elif v<60:\n",
        "  print(\"Too slow. Needs more changes.\")\n",
        "elif 60<=v<=90:\n",
        "  print(\"Velocity is okay. The car is ready!\")\n",
        "elif v>90:\n",
        "  print(\"Too fast. Only a few changes should suffice.\")\n",
        "elif v<0:\n",
        "  print(\"Velocity can not be negative.\")\n"
      ],
      "metadata": {
        "colab": {
          "base_uri": "https://localhost:8080/"
        },
        "id": "1Hcu7cRrrESf",
        "outputId": "3ac82e5f-2304-45ad-c2be-39eb3d96f877"
      },
      "execution_count": null,
      "outputs": [
        {
          "output_type": "stream",
          "name": "stdout",
          "text": [
            "Enter distance in meter: 160000\n",
            "Enter time in seconds: 7400\n",
            "77.838 km/h\n",
            "Velocity is okay. The car is ready!\n"
          ]
        }
      ]
    },
    {
      "cell_type": "code",
      "source": [
        "#Task-03\n",
        "#Write the Python code of a program that reads two numbers from the user. The program should then print \"First is greater\" if the first number is greater, \"Second is greater\" if the second number is greater, and \"The numbers are equal\" otherwise.\n",
        "num1 = int(input(\"Please enter the first number :\"))\n",
        "num2 = int(input(\"Please enter the second number :\"))\n",
        "if num1 > num2:\n",
        "  print(\"First is greater\")\n",
        "elif num2 > num1:\n",
        "  print(\"Second is greater\")\n",
        "else:\n",
        "  print(\"The numbers are equal\")"
      ],
      "metadata": {
        "colab": {
          "base_uri": "https://localhost:8080/"
        },
        "id": "3ZrasN-LBa3s",
        "outputId": "3ad904b3-d294-4fa9-9ed2-1f563bb2ab2a"
      },
      "execution_count": 2,
      "outputs": [
        {
          "output_type": "stream",
          "name": "stdout",
          "text": [
            "Please enter the first number :6\n",
            "Please enter the second number :2\n",
            "First is greater\n"
          ]
        }
      ]
    },
    {
      "cell_type": "code",
      "source": [
        "#Task-04\n",
        "#Write the Python code of a program that reads two numbers, subtracts the smaller number from the larger one, and prints the result.\n",
        "num1 = int(input(\"Please enter the first number :\"))\n",
        "num2 = int(input(\"Please enter the second number:\"))\n",
        "result = abs(num1)-abs(num2)\n",
        "print(result)"
      ],
      "metadata": {
        "id": "l_mRx9iCCnC9"
      },
      "execution_count": null,
      "outputs": []
    },
    {
      "cell_type": "code",
      "source": [
        "num1 = int(input(\"Please enter the first number :\"))\n",
        "num2 = int(input(\"Please enter the second number:\"))\n",
        "diff=0\n",
        "if num1>num2:\n",
        "  diff = num1-num2\n",
        "  print(diff)\n",
        "elif num2>num1:\n",
        "  diff = num2-num1\n",
        "print(diff)\n"
      ],
      "metadata": {
        "colab": {
          "base_uri": "https://localhost:8080/"
        },
        "id": "K9LRGTaTE8_d",
        "outputId": "adb7c4fd-e8ae-4936-8812-71bd3a0993b9"
      },
      "execution_count": 13,
      "outputs": [
        {
          "output_type": "stream",
          "name": "stdout",
          "text": [
            "Please enter the first number :-40\n",
            "Please enter the second number:-4\n",
            "36\n"
          ]
        }
      ]
    },
    {
      "cell_type": "code",
      "source": [
        "#Task 5\n",
        "#Write the Python code of a program that reads a number, and prints \"The number is even\" or \"The number is odd\", depending on whether the number is even or odd.\n",
        "X = int(input(\"Please enter the number: \"))\n",
        "if X%2==0:\n",
        "  print(\"The number is even\")\n",
        "else :\n",
        "  print(\"The number is odd\")"
      ],
      "metadata": {
        "colab": {
          "base_uri": "https://localhost:8080/"
        },
        "id": "MSp_pcAmJFnF",
        "outputId": "1a4ebf31-9c06-42d7-cf4f-0c45366d476c"
      },
      "execution_count": 17,
      "outputs": [
        {
          "output_type": "stream",
          "name": "stdout",
          "text": [
            "Please enter the number: 10\n",
            "The number is even\n"
          ]
        }
      ]
    },
    {
      "cell_type": "code",
      "source": [
        "#Task 6\n",
        "#Write the Python code of a program that reads an integer as input from the user, and prints the integer if it is a multiple of 2 OR 5 and prints \"Not a multiple of 2 OR 5\" otherwise.\n",
        "#For example, 2, 4, 5, 6, 8, 10, 12, 14, 15, 16, 18, 20, 22 … i.e. this includes multiples of 2 only, multiples of 5 only and multiples of 2 and 5 both.\n",
        "\n",
        "M = int(input(\"Please enter an integer number = \"))\n",
        "if M%2==0 or M%5==0:\n",
        "  print(M)\n",
        "else :\n",
        "  print(\"Not a multiple of 2 OR 5\")"
      ],
      "metadata": {
        "colab": {
          "base_uri": "https://localhost:8080/"
        },
        "id": "-WIICKNgLuTn",
        "outputId": "16c80a7e-f801-497f-c71c-9c3d43ad915c"
      },
      "execution_count": 20,
      "outputs": [
        {
          "output_type": "stream",
          "name": "stdout",
          "text": [
            "Please enter an integer number = 3\n",
            "Not a multiple of 2 OR 5\n"
          ]
        }
      ]
    },
    {
      "cell_type": "code",
      "source": [
        "#Task 7\n",
        "#Write the Python code of a program that reads an integer, and prints the integer it is a multiple of either 2 or 5 but not both. If the number is a multiple of 2 and 5 both, then print \"Multiple of 2 and 5 both\". For all other numbers, the program prints \"Not a multiple we want\".\n",
        "#For example, 2, 4, 5, 6, 8, 12, 14, 15, 16, 18, 22 … i.e. this includes multiples of 2 only and multiples of 5 only, NOT multiples of 2 and 5 both or other numbers.\n",
        "M = int(input(\"Please enter an integer number = \"))\n",
        "if  M%2==0 and M%5==0:\n",
        "  print(\"Multiple of both 2 and 5\")\n",
        "elif M%2==0:\n",
        "  print(M)\n",
        "elif M%5==0:\n",
        "  print(M)\n",
        "else :\n",
        "  print(\"Not a multiple we wanted\")"
      ],
      "metadata": {
        "colab": {
          "base_uri": "https://localhost:8080/"
        },
        "id": "NuDEaxGKM_ud",
        "outputId": "3dca4dba-65eb-4e8c-e5cb-a2b9edf906a9"
      },
      "execution_count": 27,
      "outputs": [
        {
          "output_type": "stream",
          "name": "stdout",
          "text": [
            "Please enter an integer number = 17\n",
            "Not a multiple we wanted\n"
          ]
        }
      ]
    },
    {
      "cell_type": "code",
      "source": [
        "#task 7\n",
        "x= int(input(\"Enter an integer: \"))\n",
        "if (x%2==0 and x%5!=0) or (x%5==0 and x%2!=0):\n",
        "  print(x)\n",
        "elif x%2==0 and x%5==0:\n",
        "  print(\"Multiple of 2 and 5 both\")\n",
        "else:\n",
        "  print(\"Not a multiple we want\")"
      ],
      "metadata": {
        "colab": {
          "base_uri": "https://localhost:8080/"
        },
        "id": "egvX6-ukP4sN",
        "outputId": "cd2e3ad4-4790-4cf2-af50-613e3c42dc89"
      },
      "execution_count": 28,
      "outputs": [
        {
          "output_type": "stream",
          "name": "stdout",
          "text": [
            "Enter an integer: 17\n",
            "Not a multiple we want\n"
          ]
        }
      ]
    },
    {
      "cell_type": "code",
      "source": [
        "#Task 8\n",
        "#Write the Python code of a program that reads an integer, and prints the integer if it is a multiple of 2 AND 5 and prints \"Not multiple of 2 and 5 both\" otherwise.\n",
        "#==========================================================\n",
        "#For example, 10, 20, 30, 40, 50 … i.e. this only includes numbers which are multiples of both 2 and 5.\n",
        "x= int(input(\"Enter an integer: \"))\n",
        "if (x%2==0 and x%5==0):\n",
        "    print(x)\n",
        "else:\n",
        "    print(\"Not multiple of 2 and 5 both\")\n"
      ],
      "metadata": {
        "colab": {
          "base_uri": "https://localhost:8080/"
        },
        "id": "MSrSsP4tTs7H",
        "outputId": "11ce8833-c5a6-47ff-d0ad-4a85e5d0b824"
      },
      "execution_count": 30,
      "outputs": [
        {
          "output_type": "stream",
          "name": "stdout",
          "text": [
            "Enter an integer: 15\n",
            "Not multiple of 2 and 5 both\n"
          ]
        }
      ]
    },
    {
      "cell_type": "code",
      "source": [
        "#Task 9\n",
        "#Write the Python code of a program that finds the number of hours, minutes, and seconds in a given number of seconds. The number of seconds is taken as input from the user.\n",
        "\n",
        "time = int(input(\"Enter the number of seconds: \"))\n",
        "hour = time//3600\n",
        "min = (time%3600)//60\n",
        "second = (time%3600)%60\n",
        "print(f\"Hours: {hour} Minutes: {min} Seconds: {second}\")"
      ],
      "metadata": {
        "colab": {
          "base_uri": "https://localhost:8080/"
        },
        "id": "7P9bwYUzXRIm",
        "outputId": "62bb2679-d97b-4713-a05a-ab3648af5b05"
      },
      "execution_count": 32,
      "outputs": [
        {
          "output_type": "stream",
          "name": "stdout",
          "text": [
            "Enter the number of seconds: 500\n",
            "Hours: 0 Minutes: 8 Seconds: 20\n"
          ]
        }
      ]
    }
  ]
}