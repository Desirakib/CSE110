{
  "nbformat": 4,
  "nbformat_minor": 0,
  "metadata": {
    "colab": {
      "provenance": [],
      "authorship_tag": "ABX9TyOZ0MnH0lJ83nyc5e2zOLXm",
      "include_colab_link": true
    },
    "kernelspec": {
      "name": "python3",
      "display_name": "Python 3"
    },
    "language_info": {
      "name": "python"
    }
  },
  "cells": [
    {
      "cell_type": "markdown",
      "metadata": {
        "id": "view-in-github",
        "colab_type": "text"
      },
      "source": [
        "<a href=\"https://colab.research.google.com/github/Desirakib/CSE110/blob/main/CSE_110.ipynb\" target=\"_parent\"><img src=\"https://colab.research.google.com/assets/colab-badge.svg\" alt=\"Open In Colab\"/></a>"
      ]
    },
    {
      "cell_type": "code",
      "execution_count": null,
      "metadata": {
        "colab": {
          "base_uri": "https://localhost:8080/"
        },
        "id": "Jb3oH7auK7Wn",
        "outputId": "42aafd05-aa14-4b84-98b7-0bf26c1bebba"
      },
      "outputs": [
        {
          "output_type": "stream",
          "name": "stdout",
          "text": [
            "Enter the number of seconds: 7500\n",
            "Hour :2\n",
            "Minute :5\n",
            "Second :0\n"
          ]
        }
      ],
      "source": [
        "#Task-9\n",
        "time = int(input(\"Enter the number of seconds: \"))\n",
        "hour = time//3600\n",
        "min = (time%3600)//60\n",
        "second = (time%3600)%60\n",
        "print(f\"Hour :{hour}\\nMinute :{min}\\nSecond :{second}\")"
      ]
    },
    {
      "cell_type": "code",
      "source": [
        "#Task-10\n",
        "Hours = int(input(\"Please enter number of hour: \"))\n",
        "if Hours<0:\n",
        "  print(\"Hours can not be negative\")\n",
        "elif Hours>168:\n",
        "  print(\"Imposible to work more than 168 hours\")\n",
        "elif Hours<=40:\n",
        "  print(\"Salary :\",(Hours)*200)\n",
        "elif Hours>40:\n",
        "  print(\"Salary :\",8000+(Hours-40)*300)"
      ],
      "metadata": {
        "colab": {
          "base_uri": "https://localhost:8080/"
        },
        "id": "D19mq9A9OgjI",
        "outputId": "197838a3-2673-4bec-afa4-af70a2f24712"
      },
      "execution_count": null,
      "outputs": [
        {
          "output_type": "stream",
          "name": "stdout",
          "text": [
            "Please enter number of hour: 39\n",
            "Salary : 7800\n"
          ]
        }
      ]
    },
    {
      "cell_type": "code",
      "source": [
        "#Task-11\n",
        "import math\n",
        "S = int(input(\"Enter an integer value :\"))\n",
        "if S<100:\n",
        "  L= 3000-125*math.pow(S,2)\n",
        "  print(L)\n",
        "elif S>=100:\n",
        "  L= 12000/(4+S**2/14900)\n",
        "  print(L)"
      ],
      "metadata": {
        "colab": {
          "base_uri": "https://localhost:8080/"
        },
        "id": "Lxc-OjdrOgkC",
        "outputId": "f3a85e67-b2df-4929-e020-e25bfcf7bd8d"
      },
      "execution_count": null,
      "outputs": [
        {
          "output_type": "stream",
          "name": "stdout",
          "text": [
            "Enter an integer value :120\n",
            "2416.2162162162163\n"
          ]
        }
      ]
    },
    {
      "cell_type": "code",
      "source": [
        "#Task-12\n",
        "Time = int(input(\"Input time on 24 format value :\"))\n",
        "if 4<=Time<=6:\n",
        "  print(\"Breakfast\")\n",
        "elif 12<=Time<=13:\n",
        "  print(\"Lunch\")\n",
        "elif 16<=Time<=17:\n",
        "  print(\"Snacks\")\n",
        "elif 19<=Time<=20:\n",
        "  print(\"Dinner\")\n",
        "elif Time<0 or Time>=24:\n",
        "  print(\"hahaha\")\n",
        "else:\n",
        "  print(\"Patience is a virtue\")\n"
      ],
      "metadata": {
        "colab": {
          "base_uri": "https://localhost:8080/"
        },
        "id": "z6X6aSCudixh",
        "outputId": "d413bd25-7e67-497a-c972-a519d773a7a7"
      },
      "execution_count": null,
      "outputs": [
        {
          "output_type": "stream",
          "name": "stdout",
          "text": [
            "Input time on 24 format value :0\n",
            "Patience is a virtue\n"
          ]
        }
      ]
    },
    {
      "cell_type": "code",
      "source": [
        "#task 12\n",
        "h=int(input(\"Enter your hour: \"))\n",
        "if 4<=h<=6:\n",
        "  print(\"Breakfast\")\n",
        "elif 12<=h<=13:\n",
        "  print(\"Lunch\")\n",
        "elif 16<=h<=17:\n",
        "  print(\"Snacks\")\n",
        "elif 19<=h<=20:\n",
        "  print (\"Dinner\")\n",
        "elif h<0 or h>=24:\n",
        "  print(\"Wrong Time\")\n",
        "else:\n",
        "  print(\"Patience is a virtue\")"
      ],
      "metadata": {
        "colab": {
          "base_uri": "https://localhost:8080/"
        },
        "id": "FB-049xzkxNX",
        "outputId": "e4fd3612-367d-4827-d709-ea61d05d14a1"
      },
      "execution_count": null,
      "outputs": [
        {
          "output_type": "stream",
          "name": "stdout",
          "text": [
            "Enter your hour: 9\n",
            "Patience is a virtue\n"
          ]
        }
      ]
    },
    {
      "cell_type": "code",
      "source": [
        "#Task-13\n",
        "M = int(input(\"Please enter subjet marks: \"))\n",
        "if 90<=M<=100:\n",
        "  print(\"A\")\n",
        "elif 80<=M<=89:\n",
        "  print(\"B\")\n",
        "elif 70<=M<=79:\n",
        "  print(\"C\")\n",
        "elif 50<=M<=59:\n",
        "  print(\"E\")\n",
        "elif 0<=M<50:\n",
        "  print(\"F\")\n",
        "else:\n",
        "  print(\"The valid marks range is 0 to 100\")"
      ],
      "metadata": {
        "colab": {
          "base_uri": "https://localhost:8080/"
        },
        "id": "Qlj2EFw1ovEg",
        "outputId": "e6e01be6-a508-4345-a439-525a49c9ed49"
      },
      "execution_count": null,
      "outputs": [
        {
          "output_type": "stream",
          "name": "stdout",
          "text": [
            "Please enter subjet marks: 96\n",
            "A\n"
          ]
        }
      ]
    },
    {
      "cell_type": "code",
      "source": [],
      "metadata": {
        "id": "Cz8RGrMKw1sZ"
      },
      "execution_count": null,
      "outputs": []
    },
    {
      "cell_type": "code",
      "source": [
        "#Task-14\n",
        "s = int(input(\"Enter distance in meter: \"))\n",
        "t = int(input(\"Enter time in seconds: \"))\n",
        "v= round((s/1000)*(3600/t),3)\n",
        "print(f\"{v} km/h\")\n",
        "if v<0:\n",
        "  print(\"Velocity can not be negative.\")\n",
        "elif v<60:\n",
        "  print(\"Too slow. Needs more changes.\")\n",
        "elif 60<=v<=90:\n",
        "  print(\"Velocity is okay. The car is ready!\")\n",
        "elif v>90:\n",
        "  print(\"Too fast. Only a few changes should suffice.\")\n",
        "elif v<0:\n",
        "  print(\"Velocity can not be negative.\")"
      ],
      "metadata": {
        "colab": {
          "base_uri": "https://localhost:8080/"
        },
        "id": "1Hcu7cRrrESf",
        "outputId": "3ac82e5f-2304-45ad-c2be-39eb3d96f877"
      },
      "execution_count": null,
      "outputs": [
        {
          "output_type": "stream",
          "name": "stdout",
          "text": [
            "Enter distance in meter: 160000\n",
            "Enter time in seconds: 7400\n",
            "77.838 km/h\n",
            "Velocity is okay. The car is ready!\n"
          ]
        }
      ]
    }
  ]
}