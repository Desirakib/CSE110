{
  "nbformat": 4,
  "nbformat_minor": 0,
  "metadata": {
    "colab": {
      "provenance": [],
      "authorship_tag": "ABX9TyNwItHCY+fOFsi6+7Y3DI2Z",
      "include_colab_link": true
    },
    "kernelspec": {
      "name": "python3",
      "display_name": "Python 3"
    },
    "language_info": {
      "name": "python"
    }
  },
  "cells": [
    {
      "cell_type": "markdown",
      "metadata": {
        "id": "view-in-github",
        "colab_type": "text"
      },
      "source": [
        "<a href=\"https://colab.research.google.com/github/Desirakib/CSE110/blob/main/Assignment_06_23201141_Rakib_Hasan.ipynb\" target=\"_parent\"><img src=\"https://colab.research.google.com/assets/colab-badge.svg\" alt=\"Open In Colab\"/></a>"
      ]
    },
    {
      "cell_type": "code",
      "execution_count": null,
      "metadata": {
        "colab": {
          "base_uri": "https://localhost:8080/"
        },
        "id": "m9pMq_a-OaZq",
        "outputId": "558f972a-269c-4ac9-9aa5-dddecbc65983"
      },
      "outputs": [
        {
          "output_type": "stream",
          "name": "stdout",
          "text": [
            "Enter a number: 5\n",
            "[5]\n",
            "Enter a number: 30\n",
            "[5, 30]\n",
            "Enter a number: 2\n",
            "[5, 30, 2]\n",
            "Enter a number: 4\n",
            "[5, 30, 2, 4]\n",
            "Enter a number: -6\n",
            "[5, 30, 2, 4, -6]\n"
          ]
        }
      ],
      "source": [
        "#Task 1\n",
        "\n",
        "list = []\n",
        "\n",
        "for i in range(5):\n",
        "    user = int(input(\"Enter a number: \"))\n",
        "    list.append(user)\n",
        "    print(list)"
      ]
    },
    {
      "cell_type": "code",
      "source": [
        "#Task 2\n",
        "\n",
        "numbers_list = []\n",
        "\n",
        "for _ in range(5):\n",
        "    user_input = int(input(\"Enter a number: \"))\n",
        "    numbers_list = numbers_list + [user_input]\n",
        "    print(numbers_list)"
      ],
      "metadata": {
        "colab": {
          "base_uri": "https://localhost:8080/"
        },
        "id": "6VCiLAHUPPY4",
        "outputId": "98e020de-4e03-4518-b526-33544d766589"
      },
      "execution_count": null,
      "outputs": [
        {
          "output_type": "stream",
          "name": "stdout",
          "text": [
            "Enter a number: 5\n",
            "[5]\n",
            "Enter a number: 30\n",
            "[5, 30]\n",
            "Enter a number: 2\n",
            "[5, 30, 2]\n",
            "Enter a number: 4\n",
            "[5, 30, 2, 4]\n",
            "Enter a number: -6\n",
            "[5, 30, 2, 4, -6]\n"
          ]
        }
      ]
    },
    {
      "cell_type": "code",
      "source": [
        "#Task 3\n",
        "\n",
        "user = input(\"Enter a list of 5 elements with commas: \")\n",
        "\n",
        "input_list = [int(x) for x in user.split(',')]\n",
        "\n",
        "reversed_list = []\n",
        "\n",
        "for i in range(len(input_list)-1, -1, -1):\n",
        "    reversed_list.append(input_list[i])\n",
        "\n",
        "\n",
        "print(reversed_list)"
      ],
      "metadata": {
        "colab": {
          "base_uri": "https://localhost:8080/"
        },
        "id": "eNw29lkmPkT6",
        "outputId": "18b52271-b7a0-4b0f-f988-13e5b291de9b"
      },
      "execution_count": null,
      "outputs": [
        {
          "output_type": "stream",
          "name": "stdout",
          "text": [
            "Enter a list of 5 elements separated by commas: 5, -5, 100, 1, 0\n",
            "[0, 1, 100, -5, 5]\n"
          ]
        }
      ]
    },
    {
      "cell_type": "code",
      "source": [
        "#Task 4\n",
        "\n",
        "user_input = input(\"Enter a list of elements with commas: \")\n",
        "input_list = [int(x) for x in user_input.split(',')]\n",
        "\n",
        "\n",
        "if len(input_list) >= 4:\n",
        "\n",
        "    new_list = input_list[2:-2]\n",
        "    print(new_list)\n",
        "else:\n",
        "    print(\"Not possible\")"
      ],
      "metadata": {
        "colab": {
          "base_uri": "https://localhost:8080/"
        },
        "id": "uSi3tKOxQ2S5",
        "outputId": "9a5cbaa2-819c-4a89-f578-5a228e8e742b"
      },
      "execution_count": null,
      "outputs": [
        {
          "output_type": "stream",
          "name": "stdout",
          "text": [
            "Enter a list of elements with commas: 10, 20, 24\n",
            "Not possible\n"
          ]
        }
      ]
    },
    {
      "cell_type": "code",
      "source": [
        "#Task 5\n",
        "\n",
        "list_one = [1, 3, 5, 7, 9, 10]\n",
        "list_two = [2, 4, 6, 8]\n",
        "list3=[]\n",
        "l=0\n",
        "y=len(list_one)\n",
        "while l<y-1:\n",
        "  x=list_one[l]\n",
        "  list3 = list3 + [x]\n",
        "  l=l+1\n",
        "\n",
        "list3=list3+list_two\n",
        "print(list3)"
      ],
      "metadata": {
        "colab": {
          "base_uri": "https://localhost:8080/"
        },
        "id": "5X36d4PvI_q-",
        "outputId": "1b189ca2-c04f-4fe3-92e1-7e7a91a79ea9"
      },
      "execution_count": null,
      "outputs": [
        {
          "output_type": "stream",
          "name": "stdout",
          "text": [
            "[1, 3, 5, 7, 9, 2, 4, 6, 8]\n"
          ]
        }
      ]
    },
    {
      "cell_type": "code",
      "source": [
        "#Task 6\n",
        "\n",
        "def filter_even_elements(list1, list2):\n",
        "    combined_list = list1 + list2\n",
        "\n",
        "    even_elements = [num for num in combined_list if num % 2 == 0]\n",
        "\n",
        "    return even_elements\n",
        "\n",
        "\n",
        "list1 = [1, 2, 3, 4, 5, 6, 7, 8, 9]\n",
        "list2 = [10, 11, 12, -13, -14, -15, -16]\n",
        "\n",
        "\n",
        "result_list = filter_even_elements(list1, list2)\n",
        "print(result_list)"
      ],
      "metadata": {
        "colab": {
          "base_uri": "https://localhost:8080/"
        },
        "id": "hnuLUgXKUPjJ",
        "outputId": "600917ea-69fa-4491-98f1-48f330197287"
      },
      "execution_count": null,
      "outputs": [
        {
          "output_type": "stream",
          "name": "stdout",
          "text": [
            "[2, 4, 6, 8, 10, 12, -14, -16]\n"
          ]
        }
      ]
    },
    {
      "cell_type": "code",
      "source": [
        "#Task 7\n",
        "\n",
        "\n",
        "empty_list1 = []\n",
        "\n",
        "def nested_to_linear(list):\n",
        "    length = len(list)\n",
        "    for k in range(length):\n",
        "      contents = list[k]\n",
        "      if type(contents) == type([]):\n",
        "        nested_to_linear(contents)\n",
        "      else:\n",
        "        empty_list1.append(contents)\n",
        "    return empty_list1\n",
        "output = nested_to_linear ([\"start\", 10, [4, 2, [11, [9, \"mid\", 3, [1, 0], 6]], 8], \"Done\"])\n",
        "print(output)"
      ],
      "metadata": {
        "colab": {
          "base_uri": "https://localhost:8080/"
        },
        "id": "N6jhA0tcKb8-",
        "outputId": "8e298342-dff5-4924-99c7-64f0c13b41a7"
      },
      "execution_count": null,
      "outputs": [
        {
          "output_type": "stream",
          "name": "stdout",
          "text": [
            "['start', 10, 4, 2, 11, 9, 'mid', 3, 1, 0, 6, 8, 'Done']\n"
          ]
        }
      ]
    },
    {
      "cell_type": "code",
      "source": [
        "#Task 8\n",
        "\n",
        "\n",
        "def grade_list():\n",
        "  result = []\n",
        "  for p in range(5):\n",
        "    user = input(\"Enter list: \")[1:-1]\n",
        "    for x in range(len(user)):\n",
        "      if user[x] ==\",\":\n",
        "        part1,part2 =(user[:x]),(user[1+x:])\n",
        "        result.append([part1,float(part2)])\n",
        "        print(result)\n",
        "grade_list()"
      ],
      "metadata": {
        "id": "FbU8Tx1kKiHY",
        "colab": {
          "base_uri": "https://localhost:8080/"
        },
        "outputId": "7d1fc3fa-afa7-467b-8abf-5d808df66a82"
      },
      "execution_count": 10,
      "outputs": [
        {
          "output_type": "stream",
          "name": "stdout",
          "text": [
            "Enter list: [arif,3.7\n",
            "[['arif', 3.0]]\n",
            "Enter list: [syed,4.0\n",
            "[['arif', 3.0], ['syed', 4.0]]\n",
            "Enter list: [rafin,3.3]\n",
            "[['arif', 3.0], ['syed', 4.0], ['rafin', 3.3]]\n",
            "Enter list: [nuha,3.7]\n",
            "[['arif', 3.0], ['syed', 4.0], ['rafin', 3.3], ['nuha', 3.7]]\n",
            "Enter list: [safi,3.0]\n",
            "[['arif', 3.0], ['syed', 4.0], ['rafin', 3.3], ['nuha', 3.7], ['safi', 3.0]]\n"
          ]
        }
      ]
    }
  ]
}