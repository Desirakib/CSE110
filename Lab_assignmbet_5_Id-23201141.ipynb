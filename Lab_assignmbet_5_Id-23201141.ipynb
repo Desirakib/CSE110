{
  "nbformat": 4,
  "nbformat_minor": 0,
  "metadata": {
    "colab": {
      "provenance": [],
      "authorship_tag": "ABX9TyMhrhlqJmA+p/ArWS8y+lND",
      "include_colab_link": true
    },
    "kernelspec": {
      "name": "python3",
      "display_name": "Python 3"
    },
    "language_info": {
      "name": "python"
    }
  },
  "cells": [
    {
      "cell_type": "markdown",
      "metadata": {
        "id": "view-in-github",
        "colab_type": "text"
      },
      "source": [
        "<a href=\"https://colab.research.google.com/github/Desirakib/CSE110/blob/main/Lab_assignmbet_5_Id-23201141.ipynb\" target=\"_parent\"><img src=\"https://colab.research.google.com/assets/colab-badge.svg\" alt=\"Open In Colab\"/></a>"
      ]
    },
    {
      "cell_type": "code",
      "execution_count": 1,
      "metadata": {
        "colab": {
          "base_uri": "https://localhost:8080/"
        },
        "id": "wch9om-3vkhf",
        "outputId": "663e0585-0ba9-4fca-9a26-75c9a66557a4"
      },
      "outputs": [
        {
          "output_type": "stream",
          "name": "stdout",
          "text": [
            "10\n",
            "Even!!\n"
          ]
        }
      ],
      "source": [
        "#CW-1.1)\n",
        "\n",
        "def even_checker(num):\n",
        "  if num %2==0:\n",
        "    print(\"Even!!\")\n",
        "  else:\n",
        "    print(\"Odd!!\")\n",
        "num = int(input())\n",
        "even_checker(num)"
      ]
    },
    {
      "cell_type": "code",
      "source": [
        "#CW-1.2)\n",
        "\n",
        "def is_even(number):\n",
        "  if number%2==0:\n",
        "    return True\n",
        "  else:\n",
        "    return False\n",
        "\n",
        "\n",
        "is_even(10)\n"
      ],
      "metadata": {
        "colab": {
          "base_uri": "https://localhost:8080/"
        },
        "id": "JVFG_pRyvyr6",
        "outputId": "ad7cdfca-6f6d-40b0-deeb-14181e5d0488"
      },
      "execution_count": 2,
      "outputs": [
        {
          "output_type": "execute_result",
          "data": {
            "text/plain": [
              "True"
            ]
          },
          "metadata": {},
          "execution_count": 2
        }
      ]
    },
    {
      "cell_type": "code",
      "source": [
        "#CW-1.3)\n",
        "\n",
        "def is_pos(number):\n",
        "  if number>0:\n",
        "    return True\n",
        "  else:\n",
        "    return False\n",
        "\n",
        "is_pos(-5)"
      ],
      "metadata": {
        "colab": {
          "base_uri": "https://localhost:8080/"
        },
        "id": "uG99xJMbwHgc",
        "outputId": "10f61353-dbcd-4716-97de-a00fc132d724"
      },
      "execution_count": 5,
      "outputs": [
        {
          "output_type": "execute_result",
          "data": {
            "text/plain": [
              "False"
            ]
          },
          "metadata": {},
          "execution_count": 5
        }
      ]
    },
    {
      "cell_type": "code",
      "source": [
        "#CW-1.4)\n",
        "\n",
        "def sequence(n):\n",
        "  if is_pos(n):\n",
        "    for i in range(0,n+1,1):\n",
        "      if is_even(i):\n",
        "          print(i,end=\" \")\n",
        "  else:\n",
        "    for i in range(n,0,1):\n",
        "      if is_even(i)==False:\n",
        "        print(i,end=\" \")\n",
        "\n",
        "\n",
        "\n",
        "sequence(-8)"
      ],
      "metadata": {
        "colab": {
          "base_uri": "https://localhost:8080/"
        },
        "id": "rxWMlGTTwWGa",
        "outputId": "19217eb2-b65d-4081-a2d7-604c88ca6c7d"
      },
      "execution_count": 6,
      "outputs": [
        {
          "output_type": "stream",
          "name": "stdout",
          "text": [
            "-7 -5 -3 -1 "
          ]
        }
      ]
    },
    {
      "cell_type": "code",
      "source": [
        "#CW-2.1)\n",
        "\n",
        "def is_valid_triangle(a,b,c):\n",
        "  if a+b>c and b+c>a and a+c>b:\n",
        "    return True\n",
        "\n",
        "  else:\n",
        "    return False\n",
        "\n",
        "\n",
        "result=is_valid_triangle(3,2,1)\n",
        "print(result)"
      ],
      "metadata": {
        "colab": {
          "base_uri": "https://localhost:8080/"
        },
        "id": "zy3e7DPXxgGz",
        "outputId": "a60a3fde-2940-44f7-eb8f-8d07105449ec"
      },
      "execution_count": 20,
      "outputs": [
        {
          "output_type": "stream",
          "name": "stdout",
          "text": [
            "False\n"
          ]
        }
      ]
    },
    {
      "cell_type": "code",
      "source": [
        "#CW-2.2)\n",
        "def is_valid_triangle(a,b,c):\n",
        "  if a+b>c and b+c>a and a+c>b:\n",
        "    return True\n",
        "  else:\n",
        "    return False\n",
        "result=is_valid_triangle(3,2,1)\n",
        "\n",
        "\n",
        "def tri_area(a,b,c):\n",
        "  if is_valid_triangle(a,b,c)==False:\n",
        "    print(\"Can’t form triangle\")\n",
        "\n",
        "  else:\n",
        "   s=((a+b+c)/2)\n",
        "   area=(s*(s-a)*(s-b)*(s-c))**(1/2)\n",
        "   result=round(area,3)\n",
        "\n",
        "   print(result)\n",
        "\n",
        "tri_area(3,2,1)"
      ],
      "metadata": {
        "colab": {
          "base_uri": "https://localhost:8080/"
        },
        "id": "8CJJtZduyUt9",
        "outputId": "97aaa136-811c-4e9e-c2f2-65cb29166ff9"
      },
      "execution_count": 23,
      "outputs": [
        {
          "output_type": "stream",
          "name": "stdout",
          "text": [
            "Can’t form triangle\n"
          ]
        }
      ]
    },
    {
      "cell_type": "code",
      "source": [
        "#CW-3.1)\n",
        "\n",
        "def circle(radius):\n",
        "\n",
        "  area = 3.1415926535 *(radius)**2\n",
        "  result = round(area,4)\n",
        "  return result\n",
        "\n",
        "circle(5)"
      ],
      "metadata": {
        "colab": {
          "base_uri": "https://localhost:8080/"
        },
        "id": "sX0ba6gA05rM",
        "outputId": "3f2d99b2-7e43-4e9f-e3d1-0d24f4c757f3"
      },
      "execution_count": 76,
      "outputs": [
        {
          "output_type": "execute_result",
          "data": {
            "text/plain": [
              "78.5398"
            ]
          },
          "metadata": {},
          "execution_count": 76
        }
      ]
    },
    {
      "cell_type": "code",
      "source": [
        "#CW-3.2)\n",
        "\n",
        "def sphere(radius):\n",
        "\n",
        "\n",
        "  volume = (4/3)*3.1415926535*(radius)**3\n",
        "  result = round(volume,4)\n",
        "  return result\n",
        "\n",
        "\n",
        "sphere(5)"
      ],
      "metadata": {
        "colab": {
          "base_uri": "https://localhost:8080/"
        },
        "id": "bSnaDiYt3Vpz",
        "outputId": "8e39a2ce-1f2c-4650-c45c-1962f89dc9e8"
      },
      "execution_count": 77,
      "outputs": [
        {
          "output_type": "execute_result",
          "data": {
            "text/plain": [
              "523.5988"
            ]
          },
          "metadata": {},
          "execution_count": 77
        }
      ]
    },
    {
      "cell_type": "code",
      "source": [
        "#CW-3.3)\n",
        "\n",
        "def fitting(d1,d2,dim):\n",
        "\n",
        "  r1=d1/2\n",
        "  r2=d2/2\n",
        "\n",
        "  if d1==d2:\n",
        "    print(\"impossible to fit\")\n",
        "  else:\n",
        "    if dim==2:\n",
        "      area1=circle(r1)\n",
        "      area2=circle(r2)\n",
        "      if area1>area2:\n",
        "        left=area1-area2\n",
        "        print(f\"Circle-2 can fit inside Circle-1 and {round(left,3)} square units would be left.\")\n",
        "      else:\n",
        "        left=area2-area1\n",
        "        print(f\"Circle-1 can fit inside Circle-2 and {round(left,3)} square units would be left.\")\n",
        "    elif dim==3:\n",
        "      volume1=sphere(r1)\n",
        "      volume2=sphere(r2)\n",
        "      if volume1>volume2:\n",
        "        left=volume1-volume2\n",
        "        print(f\"Sphere-2 can fit inside Sphere-1 and {round(left,3)} cubic units would be left.\")\n",
        "      else:\n",
        "        left=volume2-volume1\n",
        "        print(f\"Sphere-1 can fit inside Sphere-2 and {round(left,3)} cubic units would be left.\")\n",
        "\n",
        "\n",
        "fitting(8,10,2)\n",
        "fitting(30,14,3)"
      ],
      "metadata": {
        "colab": {
          "base_uri": "https://localhost:8080/"
        },
        "id": "UfK9h1zT4ncs",
        "outputId": "2a23e5c8-3dfa-4b35-f74e-a48d724da531"
      },
      "execution_count": 78,
      "outputs": [
        {
          "output_type": "stream",
          "name": "stdout",
          "text": [
            "Circle-1 can fit inside Circle-2 and 28.274 square units would be left.\n",
            "Sphere-2 can fit inside Sphere-1 and 12700.412 cubic units would be left.\n"
          ]
        }
      ]
    },
    {
      "cell_type": "code",
      "source": [
        "#CW-5.1)\n",
        "\n",
        "def one_to_N(i,N):\n",
        "\n",
        "  if i==N:\n",
        "    print(i,end=\" \")\n",
        "  else:\n",
        "    print(i,end=\" \")\n",
        "    one_to_N(i+1,N)\n",
        "\n",
        "N=int(input(\"n=\"))\n",
        "\n",
        "one_to_N(1,N)"
      ],
      "metadata": {
        "colab": {
          "base_uri": "https://localhost:8080/"
        },
        "id": "k8rG9nfX7dGT",
        "outputId": "afb7a0e4-b95d-4969-ad62-bdf27ddb97d3"
      },
      "execution_count": 86,
      "outputs": [
        {
          "output_type": "stream",
          "name": "stdout",
          "text": [
            "n=11\n",
            "1 2 3 4 5 6 7 8 9 10 11 "
          ]
        }
      ]
    },
    {
      "cell_type": "code",
      "source": [
        "#CW-5.2)\n",
        "\n",
        "def reverse_printing(i,n):\n",
        "  if i==n:\n",
        "    print(n,end=\" \")\n",
        "    return\n",
        "  else:\n",
        "    print(n,end=\" \")\n",
        "    reverse_printing(i,n-1)\n",
        "\n",
        "N=int(input(\"N: \"))\n",
        "\n",
        "reverse_printing(1,N)"
      ],
      "metadata": {
        "colab": {
          "base_uri": "https://localhost:8080/"
        },
        "id": "dKn4BaWc7vub",
        "outputId": "e27700d7-d336-41d1-e39e-35e594775bc8"
      },
      "execution_count": 87,
      "outputs": [
        {
          "output_type": "stream",
          "name": "stdout",
          "text": [
            "N: 6\n",
            "6 5 4 3 2 1 "
          ]
        }
      ]
    },
    {
      "cell_type": "code",
      "source": [
        "#CW-5.3)\n",
        "\n",
        "def recursive_summation(i,n):\n",
        "\n",
        "  if i==n:\n",
        "    return n\n",
        "  else:\n",
        "    result= i + recursive_summation(i+1,n)\n",
        "    return result\n",
        "\n",
        "N=int(input(\"n=\"))\n",
        "\n",
        "recursive_summation(1,N)"
      ],
      "metadata": {
        "colab": {
          "base_uri": "https://localhost:8080/"
        },
        "id": "ETpidlyH-sNE",
        "outputId": "49d13732-6812-45a1-9523-0a0ddc49383e"
      },
      "execution_count": 93,
      "outputs": [
        {
          "name": "stdout",
          "output_type": "stream",
          "text": [
            "n=9\n"
          ]
        },
        {
          "output_type": "execute_result",
          "data": {
            "text/plain": [
              "45"
            ]
          },
          "metadata": {},
          "execution_count": 93
        }
      ]
    },
    {
      "cell_type": "code",
      "source": [
        "#HW-1.1)\n",
        "\n",
        "\n",
        "def is_prime(n):\n",
        "\n",
        "\n",
        "  count=0\n",
        "  for i in range(n-1,0,-1):\n",
        "    if n%i==0:\n",
        "      count=count+1\n",
        "  if count==1:\n",
        "    return True\n",
        "  else:\n",
        "    return False\n",
        "\n",
        "prime_check = is_prime(15)\n",
        "print(prime_check)\n"
      ],
      "metadata": {
        "colab": {
          "base_uri": "https://localhost:8080/"
        },
        "id": "TwAoCKulAbjj",
        "outputId": "b465897c-268b-4b9c-a693-cb41cbc1b308"
      },
      "execution_count": 98,
      "outputs": [
        {
          "output_type": "stream",
          "name": "stdout",
          "text": [
            "False\n"
          ]
        }
      ]
    },
    {
      "cell_type": "code",
      "source": [
        "#HW-1.1)\n",
        "\n",
        "def is_perfect(n):\n",
        "\n",
        "\n",
        "  x=0\n",
        "  for i in range(n-1,0,-1):\n",
        "    if n%i==0:\n",
        "      x=x+i\n",
        "  if x==n:\n",
        "    return True\n",
        "  else:\n",
        "    return False\n",
        "\n",
        "\n",
        "perfect_check = is_perfect(6)\n",
        "print(perfect_check)\n",
        "\n",
        "perfect_check = is_perfect(33)\n",
        "print(perfect_check)"
      ],
      "metadata": {
        "colab": {
          "base_uri": "https://localhost:8080/"
        },
        "id": "5zYSmxTEAciq",
        "outputId": "7e61d776-af8c-4e2d-f64d-cb1dcf622f20"
      },
      "execution_count": 101,
      "outputs": [
        {
          "output_type": "stream",
          "name": "stdout",
          "text": [
            "True\n",
            "False\n"
          ]
        }
      ]
    },
    {
      "cell_type": "code",
      "source": [
        "#HW-1.3)\n",
        "\n",
        "def special_sum(n):\n",
        "  sum=0\n",
        "  for j in range(n):\n",
        "    if is_prime(j) or is_perfect(j):\n",
        "      sum = sum+j\n",
        "  return sum\n",
        "user_input=int(input(\"Enter your number: \"))\n",
        "special_sum(user_input)"
      ],
      "metadata": {
        "colab": {
          "base_uri": "https://localhost:8080/"
        },
        "id": "gPqHPcMIBmHW",
        "outputId": "3a0f692a-0f5f-4088-c5be-f27987611c10"
      },
      "execution_count": 106,
      "outputs": [
        {
          "name": "stdout",
          "output_type": "stream",
          "text": [
            "Enter your number: 8\n"
          ]
        },
        {
          "output_type": "execute_result",
          "data": {
            "text/plain": [
              "23"
            ]
          },
          "metadata": {},
          "execution_count": 106
        }
      ]
    },
    {
      "cell_type": "code",
      "source": [
        "#HW-2.1)\n",
        "\n",
        "def show_dots(n):\n",
        "  print(\".\" * n,end=\"\")\n",
        "\n",
        "show_dots(5)"
      ],
      "metadata": {
        "colab": {
          "base_uri": "https://localhost:8080/"
        },
        "id": "gCx1PqnyB4WC",
        "outputId": "558e5870-a5e0-4516-a4a7-28cff52895b7"
      },
      "execution_count": 102,
      "outputs": [
        {
          "output_type": "stream",
          "name": "stdout",
          "text": [
            "....."
          ]
        }
      ]
    },
    {
      "cell_type": "code",
      "source": [
        "#HW-2.2)\n",
        "\n",
        "def show_palindrome(n):\n",
        "  first_part=\"\"\n",
        "  last_part=\"\"\n",
        "  for i in range(1,n):\n",
        "    first_part+=str(i)\n",
        "  for j in range(n,0,-1):\n",
        "    last_part+=str(j)\n",
        "  print(first_part+last_part,end=\"\")\n",
        "\n",
        "show_palindrome(5)"
      ],
      "metadata": {
        "colab": {
          "base_uri": "https://localhost:8080/"
        },
        "id": "__9fdPTRCADC",
        "outputId": "50e936b9-f4d8-421c-af59-3bfafd22fddb"
      },
      "execution_count": 107,
      "outputs": [
        {
          "output_type": "stream",
          "name": "stdout",
          "text": [
            "123454321"
          ]
        }
      ]
    },
    {
      "cell_type": "code",
      "source": [
        "#HW-2.1)\n",
        "\n",
        "def show_dots(n):\n",
        "  print(\".\" * n,end=\"\")\n",
        "\n",
        "\n",
        "def show_palindrome(n):\n",
        "  first_part=\"\"\n",
        "  last_part=\"\"\n",
        "  for i in range(1,n):\n",
        "    first_part+=str(i)\n",
        "  for j in range(n,0,-1):\n",
        "    last_part+=str(j)\n",
        "  print(first_part+last_part,end=\"\")\n",
        "\n",
        "def show_triangle(n):\n",
        "  for i in range(1,n+1):\n",
        "    show_dots(n-i)\n",
        "    show_palindrome(i),\n",
        "    show_dots(n-i)\n",
        "    print()\n",
        "\n",
        "show_triangle(5)"
      ],
      "metadata": {
        "colab": {
          "base_uri": "https://localhost:8080/"
        },
        "id": "lSUEdm5oCLSG",
        "outputId": "973c4985-4996-4f1e-c51e-e9d075ac9984"
      },
      "execution_count": 110,
      "outputs": [
        {
          "output_type": "stream",
          "name": "stdout",
          "text": [
            "....1....\n",
            "...121...\n",
            "..12321..\n",
            ".1234321.\n",
            "123454321\n"
          ]
        }
      ]
    },
    {
      "cell_type": "code",
      "source": [
        "#HW-3.1)\n",
        "\n",
        "\n",
        "def calc_tax(age,salary):\n",
        "\n",
        "\n",
        "  if age < 18 or salary <10000:\n",
        "    return 0\n",
        "\n",
        "  elif 10000 <= salary <=20000:\n",
        "    return round(salary * (7/100))\n",
        "  elif salary>2000:\n",
        "    return round(salary * (14/100))\n",
        "\n",
        "tax = calc_tax(16,20000)\n",
        "print(tax)\n",
        "tax = calc_tax(20,18000)\n",
        "print(tax)"
      ],
      "metadata": {
        "colab": {
          "base_uri": "https://localhost:8080/"
        },
        "id": "1zRJSSVbCRF9",
        "outputId": "34e77a3d-089a-460b-8369-c1f641a26473"
      },
      "execution_count": 14,
      "outputs": [
        {
          "output_type": "stream",
          "name": "stdout",
          "text": [
            "0\n",
            "1260\n"
          ]
        }
      ]
    },
    {
      "cell_type": "code",
      "source": [
        "#HW-3.2)\n",
        "\n",
        "def calc_yearly_tax():\n",
        "  age=int(input(\"Age: \"))\n",
        "  total=0\n",
        "  for i in range(1,13):\n",
        "    salary=float(input(f\"Month{i} salary:\"))\n",
        "    print(f\"Month{i} tax : {calc_tax(age,salary)}\")\n",
        "    total+=calc_tax(age,salary)\n",
        "  print(f\"Total Yearly Tax : {total}\")\n",
        "calc_yearly_tax()"
      ],
      "metadata": {
        "colab": {
          "base_uri": "https://localhost:8080/"
        },
        "id": "e663OpUNCWum",
        "outputId": "4d035786-f58b-4a50-9446-e0e422e9d227"
      },
      "execution_count": 13,
      "outputs": [
        {
          "output_type": "stream",
          "name": "stdout",
          "text": [
            "Age: 22\n",
            "Month1 salary:8000\n",
            "Month1 tax : 0\n",
            "Month2 salary:15000\n",
            "Month2 tax : 1050\n",
            "Month3 salary:22000\n",
            "Month3 tax : 3080\n",
            "Month4 salary:2300\n",
            "Month4 tax : 0\n",
            "Month5 salary:15300\n",
            "Month5 tax : 1071\n",
            "Month6 salary:21000\n",
            "Month6 tax : 2940\n",
            "Month7 salary:34000\n",
            "Month7 tax : 4760\n",
            "Month8 salary:9000\n",
            "Month8 tax : 0\n",
            "Month9 salary:27000\n",
            "Month9 tax : 3780\n",
            "Month10 salary:88000\n",
            "Month10 tax : 12320\n",
            "Month11 salary:32000\n",
            "Month11 tax : 4480\n",
            "Month12 salary:7300\n",
            "Month12 tax : 0\n",
            "Total Yearly Tax : 33481\n"
          ]
        }
      ]
    },
    {
      "cell_type": "code",
      "source": [
        "#HW-4.1)\n",
        "\n",
        "\n",
        "v = int(input())\n",
        "\n",
        "def reverse_digits(v) :\n",
        "\n",
        "  if v < 10 :\n",
        "    print(v)\n",
        "  else :\n",
        "    print (v%10)\n",
        "    return reverse_digits(v//10)\n",
        "\n",
        "\n",
        "reverse_digits(v)"
      ],
      "metadata": {
        "colab": {
          "base_uri": "https://localhost:8080/"
        },
        "id": "E8cxVcUeCakL",
        "outputId": "3d66635d-6b5d-4e76-e6ee-6baf46d8608f"
      },
      "execution_count": 19,
      "outputs": [
        {
          "output_type": "stream",
          "name": "stdout",
          "text": [
            "12345\n",
            "5\n",
            "4\n",
            "3\n",
            "2\n",
            "1\n"
          ]
        }
      ]
    },
    {
      "cell_type": "code",
      "source": [
        "#HW-4.2)\n",
        "\n",
        "\n",
        "def power(a,n):\n",
        "\n",
        "  if n==0:\n",
        "    return 1\n",
        "  else:\n",
        "    return a* power(a,n-1)\n",
        "\n",
        "\n",
        "\n",
        "a=int(input(\"Enter the number: \"))\n",
        "n=int(input(\"Enter the power: \"))\n",
        "\n",
        "power(a,n)"
      ],
      "metadata": {
        "colab": {
          "base_uri": "https://localhost:8080/"
        },
        "id": "KeM982r4Cd-3",
        "outputId": "fa928848-2b88-4444-c117-af6ceb56831a"
      },
      "execution_count": 18,
      "outputs": [
        {
          "name": "stdout",
          "output_type": "stream",
          "text": [
            "Enter the number: 6\n",
            "Enter the power: 0\n"
          ]
        },
        {
          "output_type": "execute_result",
          "data": {
            "text/plain": [
              "1"
            ]
          },
          "metadata": {},
          "execution_count": 18
        }
      ]
    },
    {
      "cell_type": "code",
      "source": [
        "#HW-5.0)\n",
        "\n",
        "\n",
        "def sequence_iterative(n):\n",
        "  a = int()\n",
        "  b = int()\n",
        "  for i in range(1,n+1):\n",
        "    if i %2 == 0:\n",
        "      a = (a + i)\n",
        "    else:\n",
        "      b = (b + i)\n",
        "  x = b - a\n",
        "  print(x)\n",
        "\n",
        "sequence_iterative(5)"
      ],
      "metadata": {
        "colab": {
          "base_uri": "https://localhost:8080/"
        },
        "id": "jaKY7Q6WChSr",
        "outputId": "219e26ba-6809-4e9c-c2e6-a929c1558a80"
      },
      "execution_count": 24,
      "outputs": [
        {
          "output_type": "stream",
          "name": "stdout",
          "text": [
            "3\n"
          ]
        }
      ]
    },
    {
      "cell_type": "code",
      "source": [
        "#HW-5.1)\n",
        "\n",
        "\n",
        "def sequence_recursive(T):\n",
        "  if T == 1:\n",
        "    return 1\n",
        "  else:\n",
        "    if T%2==0:\n",
        "      return sequence_recursive(T-1)-T\n",
        "    else:\n",
        "      return sequence_recursive(T-1)+T\n",
        "\n",
        "T=int(input())\n",
        "r = sequence_recursive(T)\n",
        "print(r)"
      ],
      "metadata": {
        "colab": {
          "base_uri": "https://localhost:8080/"
        },
        "id": "IROBdcjmOdIV",
        "outputId": "dff81824-2d80-44e6-cfb5-dbdef5bf2535"
      },
      "execution_count": 25,
      "outputs": [
        {
          "output_type": "stream",
          "name": "stdout",
          "text": [
            "10\n",
            "-5\n"
          ]
        }
      ]
    },
    {
      "cell_type": "code",
      "source": [],
      "metadata": {
        "id": "lb_4wnMfCj6c"
      },
      "execution_count": null,
      "outputs": []
    }
  ]
}